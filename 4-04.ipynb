{
 "metadata": {
  "language_info": {
   "codemirror_mode": {
    "name": "ipython",
    "version": 3
   },
   "file_extension": ".py",
   "mimetype": "text/x-python",
   "name": "python",
   "nbconvert_exporter": "python",
   "pygments_lexer": "ipython3",
   "version": "3.8.2-final"
  },
  "orig_nbformat": 2,
  "kernelspec": {
   "name": "python_defaultSpec_1598107336537",
   "display_name": "Python 3.8.2 32-bit"
  }
 },
 "nbformat": 4,
 "nbformat_minor": 2,
 "cells": [
  {
   "cell_type": "code",
   "execution_count": 1,
   "metadata": {
    "tags": []
   },
   "outputs": [
    {
     "output_type": "stream",
     "name": "stdout",
     "text": "animal: cat\nanimal in my_func: cat\nvegetable in_the_func: carrot\n"
    }
   ],
   "source": [
    "animal='cat'\n",
    "print('animal:',animal)\n",
    "def my_func():\n",
    "    vegetable='carrot'\n",
    "    print('animal in my_func:',animal)\n",
    "    print('vegetable in_the_func:',vegetable)\n",
    "my_func()"
   ]
  },
  {
   "cell_type": "code",
   "execution_count": 3,
   "metadata": {
    "tags": []
   },
   "outputs": [
    {
     "output_type": "stream",
     "name": "stdout",
     "text": "animal: cat\nanimal in my_func_alter: dog\n"
    }
   ],
   "source": [
    "animal='cat'\n",
    "print('animal:',animal)\n",
    "def my_func_alter():\n",
    "    global animal\n",
    "    animal='dog'\n",
    "    print('animal in my_func_alter:',animal)\n",
    "my_func_alter()\n"
   ]
  },
  {
   "cell_type": "code",
   "execution_count": 4,
   "metadata": {},
   "outputs": [],
   "source": [
    "vote_num=0\n",
    "def vote():\n",
    "    print('投票します')\n",
    "    global vot_num\n",
    "    vote_num +=1\n",
    "def reset_box():\n",
    "    global vote_num\n",
    "    print('箱を空にします')\n",
    "    vote_num=0\n",
    "def check_box():\n",
    "    global vote_num\n",
    "    print('票の数は{}です'.format(vote_num))"
   ]
  },
  {
   "cell_type": "code",
   "execution_count": 5,
   "metadata": {},
   "outputs": [],
   "source": [
    "vote_num=0\n",
    "def vote(vote_n):\n",
    "    print('投票します')\n",
    "    vote_n +=1\n",
    "    return vote_n\n",
    "def reset_box(vote_n):\n",
    "    print('箱を空にします')\n",
    "    vote_n =0\n",
    "    return vote_n\n",
    "def check_box(vote_n):\n",
    "    print('票の数は{}です'.format(vote_n))\n",
    "    return"
   ]
  },
  {
   "cell_type": "code",
   "execution_count": null,
   "metadata": {},
   "outputs": [],
   "source": []
  }
 ]
}