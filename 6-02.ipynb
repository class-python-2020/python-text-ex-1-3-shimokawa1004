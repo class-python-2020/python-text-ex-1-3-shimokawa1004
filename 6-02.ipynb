{
 "metadata": {
  "language_info": {
   "codemirror_mode": {
    "name": "ipython",
    "version": 3
   },
   "file_extension": ".py",
   "mimetype": "text/x-python",
   "name": "python",
   "nbconvert_exporter": "python",
   "pygments_lexer": "ipython3",
   "version": "3.8.2-final"
  },
  "orig_nbformat": 2,
  "kernelspec": {
   "name": "python_defaultSpec_1598169098203",
   "display_name": "Python 3.8.2 32-bit"
  }
 },
 "nbformat": 4,
 "nbformat_minor": 2,
 "cells": [
  {
   "cell_type": "code",
   "execution_count": 1,
   "metadata": {
    "tags": []
   },
   "outputs": [
    {
     "output_type": "stream",
     "name": "stdout",
     "text": "abc\n"
    }
   ],
   "source": [
    "class myclass:\n",
    "    def __init__(self,text='abc'):\n",
    "        self.text=text\n",
    "a=myclass()\n",
    "b=myclass(text='ggg')\n",
    "c=myclass(text='uds')\n",
    "print(a.text)"
   ]
  },
  {
   "cell_type": "code",
   "execution_count": 2,
   "metadata": {
    "tags": []
   },
   "outputs": [
    {
     "output_type": "stream",
     "name": "stdout",
     "text": "class value\n"
    }
   ],
   "source": [
    "class myclass2:\n",
    "    commo_text='class value'\n",
    "print(myclass2.commo_text)"
   ]
  },
  {
   "cell_type": "code",
   "execution_count": 3,
   "metadata": {},
   "outputs": [
    {
     "output_type": "execute_result",
     "data": {
      "text/plain": "'another attribute member'"
     },
     "metadata": {},
     "execution_count": 3
    }
   ],
   "source": [
    "myclass2.commo_text='another attribute member'\n",
    "myclass2.commo_text"
   ]
  },
  {
   "cell_type": "code",
   "execution_count": 5,
   "metadata": {},
   "outputs": [],
   "source": [
    "class sample:\n",
    "    def __init__(self):\n",
    "        self.a=1\n",
    "        self._b=1\n",
    "        self.__c=1\n",
    "        self.__d_=1\n",
    "        self.__e__=1\n",
    "    def show_attribute(self):\n",
    "        a=self.a\n",
    "        b=self._b\n",
    "        c=self.__c\n",
    "        d=self.__d_\n",
    "        e=self.__e__"
   ]
  },
  {
   "cell_type": "code",
   "execution_count": 6,
   "metadata": {},
   "outputs": [],
   "source": [
    "class Cylinder:\n",
    "    '''円柱'''\n",
    "    pi = 3.14\n",
    "\n",
    "    def __init__(self, radius, height):\n",
    "        '''円柱を特徴づける属性'''\n",
    "        self.radius = float(radius)\n",
    "        self.height = float(height)\n",
    "\n",
    "    def calc_base_area(self):\n",
    "        '''底面積を計算'''\n",
    "        pi = Cylinder.pi\n",
    "        r = self.radius\n",
    "        return pi * r * r\n",
    "\n",
    "    def calc_side_area(self):\n",
    "        '''側面積を計算'''\n",
    "        pi = Cylinder.pi\n",
    "        r = self.radius\n",
    "        h = self.height\n",
    "        return 2 * pi * r * h\n",
    "\n",
    "    def calc_surface_area(self):\n",
    "        '''表面積を計算'''\n",
    "        c = self.calc_base_area()\n",
    "        s = self.calc_side_area()\n",
    "        return 2 * c + s\n",
    "\n",
    "    def calc_volume(self):\n",
    "        '''体積を計算'''\n",
    "        c = self.calc_base_area()\n",
    "        h = self.height\n",
    "        return c * h\n",
    "\n",
    "    def show_results(self):\n",
    "        '''属性と計算結果を見せる'''\n",
    "        r = self.radius\n",
    "        h = self.height\n",
    "        S = self.calc_surface_area()\n",
    "        V = self.calc_volume()\n",
    "        print('半径: {}, 高さ: {}, 表面積: {}, 体積: {}'.format(r, h, S, V))"
   ]
  },
  {
   "cell_type": "code",
   "execution_count": 7,
   "metadata": {
    "tags": []
   },
   "outputs": [
    {
     "output_type": "stream",
     "name": "stdout",
     "text": "半径: 1.0, 高さ: 1.0, 表面積: 12.56, 体積: 3.14\n"
    }
   ],
   "source": [
    "c1 = Cylinder(1, 1)\n",
    "c1.show_results()"
   ]
  },
  {
   "cell_type": "code",
   "execution_count": null,
   "metadata": {},
   "outputs": [],
   "source": []
  }
 ]
}