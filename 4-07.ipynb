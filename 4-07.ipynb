{
 "metadata": {
  "language_info": {
   "codemirror_mode": {
    "name": "ipython",
    "version": 3
   },
   "file_extension": ".py",
   "mimetype": "text/x-python",
   "name": "python",
   "nbconvert_exporter": "python",
   "pygments_lexer": "ipython3",
   "version": "3.8.2-final"
  },
  "orig_nbformat": 2,
  "kernelspec": {
   "name": "python_defaultSpec_1598154717556",
   "display_name": "Python 3.8.2 32-bit"
  }
 },
 "nbformat": 4,
 "nbformat_minor": 2,
 "cells": [
  {
   "cell_type": "code",
   "execution_count": 1,
   "metadata": {},
   "outputs": [],
   "source": [
    "def outer(a,b):\n",
    "    print('outer function (a,b)=({},{})'.format(a,b))\n",
    "    def inner(c,d):\n",
    "        print('inner function(c,d)=({},{})'.format(c,d))\n",
    "        return c*d\n",
    "    return inner(a,b)"
   ]
  },
  {
   "cell_type": "code",
   "execution_count": 2,
   "metadata": {
    "tags": []
   },
   "outputs": [
    {
     "output_type": "stream",
     "name": "stdout",
     "text": "outer function (a,b)=(4,7)\ninner function(c,d)=(4,7)\n28\n"
    }
   ],
   "source": [
    "a=outer(4,7)\n",
    "print(a)"
   ]
  },
  {
   "cell_type": "code",
   "execution_count": 3,
   "metadata": {},
   "outputs": [
    {
     "output_type": "execute_result",
     "data": {
      "text/plain": "\"We are the knights who say:'NI!'\""
     },
     "metadata": {},
     "execution_count": 3
    }
   ],
   "source": [
    "def knights(saying):\n",
    "    def inner(quote):\n",
    "        return \"We are the knights who say:'%s'\"%quote\n",
    "    return inner(saying)\n",
    "knights('NI!')"
   ]
  },
  {
   "cell_type": "code",
   "execution_count": 5,
   "metadata": {},
   "outputs": [
    {
     "output_type": "execute_result",
     "data": {
      "text/plain": "(function, function)"
     },
     "metadata": {},
     "execution_count": 5
    }
   ],
   "source": [
    "def make_circle_area_func(pi=3.14):\n",
    "    def make_circle_area(radius):\n",
    "        return radius*radius*pi\n",
    "    return make_circle_area\n",
    "circle_area_default=make_circle_area_func()\n",
    "circle_area_precise=make_circle_area_func(pi=3.1415926535)\n",
    "type(circle_area_default),type(circle_area_precise)"
   ]
  },
  {
   "cell_type": "code",
   "execution_count": 6,
   "metadata": {
    "tags": []
   },
   "outputs": [
    {
     "output_type": "stream",
     "name": "stdout",
     "text": "1\n2\n"
    }
   ],
   "source": [
    "def makecounter():\n",
    "    n=0\n",
    "    def count():\n",
    "        nonlocal n\n",
    "        n+=1\n",
    "        return n\n",
    "    return count\n",
    "counter =makecounter()\n",
    "print(counter())\n",
    "print(counter())"
   ]
  },
  {
   "cell_type": "code",
   "execution_count": 8,
   "metadata": {
    "tags": []
   },
   "outputs": [
    {
     "output_type": "stream",
     "name": "stdout",
     "text": "===flag: Red\nSelection is 0 which may be the default\n===\n===flag Blue\nYour choice is 1\n===\n"
    }
   ],
   "source": [
    "def show_message(num=0):\n",
    "\n",
    "    if num==0:\n",
    "        flag='Red'\n",
    "        print('===flag:',flag)\n",
    "        print('Selection is',num,'which may be the default')\n",
    "        print('===')\n",
    "    else:\n",
    "        flag='Blue'\n",
    "        print('===flag',flag)\n",
    "        print('Your choice is',num)\n",
    "        print('===')\n",
    "show_message(0)\n",
    "show_message(1)"
   ]
  },
  {
   "cell_type": "code",
   "execution_count": 10,
   "metadata": {
    "tags": []
   },
   "outputs": [
    {
     "output_type": "stream",
     "name": "stdout",
     "text": "===flag: Red\nSelection is 0 which may be the default\n===\n===flag Blue\nYour choice is 1\n===\n"
    }
   ],
   "source": [
    "def show_massage(num=0):\n",
    "    def decolate(func):\n",
    "        if num ==0:\n",
    "            flag='Red'\n",
    "        else:\n",
    "            flag='Blue'\n",
    "        print('===flag:',flag)\n",
    "        func()\n",
    "        print('===')\n",
    "    def show_selection(num=num):\n",
    "        if num==0:\n",
    "            print('Selection is',num,'which may be the default')\n",
    "        else:\n",
    "            print('Your choice is',num)\n",
    "    decolate(show_selection)\n",
    "show_message(0)\n",
    "show_message(1)"
   ]
  },
  {
   "cell_type": "code",
   "execution_count": 11,
   "metadata": {},
   "outputs": [],
   "source": [
    "def make_addfunc():\n",
    "    print('足し算をする関数を作成')\n",
    "    def add(x,y):\n",
    "        print('{}+{}={}'.format(x,y,x+y))\n",
    "        return x+y\n",
    "    return add"
   ]
  },
  {
   "cell_type": "code",
   "execution_count": null,
   "metadata": {},
   "outputs": [],
   "source": []
  }
 ]
}