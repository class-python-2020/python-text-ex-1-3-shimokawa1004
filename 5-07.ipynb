{
 "metadata": {
  "language_info": {
   "codemirror_mode": {
    "name": "ipython",
    "version": 3
   },
   "file_extension": ".py",
   "mimetype": "text/x-python",
   "name": "python",
   "nbconvert_exporter": "python",
   "pygments_lexer": "ipython3",
   "version": "3.8.2-final"
  },
  "orig_nbformat": 2,
  "kernelspec": {
   "name": "python_defaultSpec_1598164934631",
   "display_name": "Python 3.8.2 32-bit"
  }
 },
 "nbformat": 4,
 "nbformat_minor": 2,
 "cells": [
  {
   "cell_type": "code",
   "execution_count": 1,
   "metadata": {},
   "outputs": [
    {
     "output_type": "execute_result",
     "data": {
      "text/plain": "{1: 'hokkaidou', 2: 'aomori', 3: 'iwate'}"
     },
     "metadata": {},
     "execution_count": 1
    }
   ],
   "source": [
    "prefecture_of_japan={1:'hokkaidou',2:'aomori',3:'iwate'}\n",
    "prefecture_of_japan"
   ]
  },
  {
   "cell_type": "code",
   "execution_count": 2,
   "metadata": {},
   "outputs": [
    {
     "output_type": "execute_result",
     "data": {
      "text/plain": "'hokkaidou'"
     },
     "metadata": {},
     "execution_count": 2
    }
   ],
   "source": [
    "prefecture_of_japan[1]"
   ]
  },
  {
   "cell_type": "code",
   "execution_count": 4,
   "metadata": {
    "tags": []
   },
   "outputs": [
    {
     "output_type": "stream",
     "name": "stdout",
     "text": "None\n"
    }
   ],
   "source": [
    "print(prefecture_of_japan.get(0))"
   ]
  },
  {
   "cell_type": "code",
   "execution_count": 5,
   "metadata": {
    "tags": []
   },
   "outputs": [
    {
     "output_type": "stream",
     "name": "stdout",
     "text": "hokkaidou\n"
    }
   ],
   "source": [
    "print(prefecture_of_japan.get(1))"
   ]
  },
  {
   "cell_type": "code",
   "execution_count": 11,
   "metadata": {},
   "outputs": [
    {
     "output_type": "execute_result",
     "data": {
      "text/plain": "{1: 'hokkaidou', 2: 'aomori', 3: 'iwate', 4: 'miyagi'}"
     },
     "metadata": {},
     "execution_count": 11
    }
   ],
   "source": [
    "prefecture_of_japan[4]='miyagi'\n",
    "prefecture_of_japan"
   ]
  },
  {
   "cell_type": "code",
   "execution_count": 12,
   "metadata": {},
   "outputs": [
    {
     "output_type": "execute_result",
     "data": {
      "text/plain": "True"
     },
     "metadata": {},
     "execution_count": 12
    }
   ],
   "source": [
    "1 in prefecture_of_japan"
   ]
  },
  {
   "cell_type": "code",
   "execution_count": 13,
   "metadata": {},
   "outputs": [
    {
     "output_type": "execute_result",
     "data": {
      "text/plain": "{1: 'hokkaidou', 2: 'aomori', 3: 'iwate'}"
     },
     "metadata": {},
     "execution_count": 13
    }
   ],
   "source": [
    "del prefecture_of_japan[4]\n",
    "prefecture_of_japan"
   ]
  },
  {
   "cell_type": "code",
   "execution_count": 14,
   "metadata": {},
   "outputs": [
    {
     "output_type": "execute_result",
     "data": {
      "text/plain": "'iwate'"
     },
     "metadata": {},
     "execution_count": 14
    }
   ],
   "source": [
    "prefecture_of_japan.pop(3)"
   ]
  },
  {
   "cell_type": "code",
   "execution_count": 15,
   "metadata": {},
   "outputs": [
    {
     "output_type": "execute_result",
     "data": {
      "text/plain": "{1: 'hokkaidou', 2: 'aomori'}"
     },
     "metadata": {},
     "execution_count": 15
    }
   ],
   "source": [
    "prefecture_of_japan"
   ]
  },
  {
   "cell_type": "code",
   "execution_count": 16,
   "metadata": {},
   "outputs": [
    {
     "output_type": "execute_result",
     "data": {
      "text/plain": "{}"
     },
     "metadata": {},
     "execution_count": 16
    }
   ],
   "source": [
    "prefecture_of_japan.clear()\n",
    "prefecture_of_japan"
   ]
  },
  {
   "cell_type": "code",
   "execution_count": 17,
   "metadata": {
    "tags": []
   },
   "outputs": [
    {
     "output_type": "stream",
     "name": "stdout",
     "text": "1\n2\n3\n"
    }
   ],
   "source": [
    "prefecture_of_japan={1:'hokkaidou',2:'aomori',3:'iwate'}\n",
    "for x in prefecture_of_japan:\n",
    "    print(x)"
   ]
  },
  {
   "cell_type": "code",
   "execution_count": 18,
   "metadata": {
    "tags": []
   },
   "outputs": [
    {
     "output_type": "stream",
     "name": "stdout",
     "text": "1\n2\n3\n"
    }
   ],
   "source": [
    "for x in prefecture_of_japan.keys():\n",
    "    print(x)"
   ]
  },
  {
   "cell_type": "code",
   "execution_count": 19,
   "metadata": {
    "tags": []
   },
   "outputs": [
    {
     "output_type": "stream",
     "name": "stdout",
     "text": "hokkaidou\naomori\niwate\n"
    }
   ],
   "source": [
    "for x in prefecture_of_japan.values():\n",
    "    print(x)"
   ]
  },
  {
   "cell_type": "code",
   "execution_count": 21,
   "metadata": {
    "tags": []
   },
   "outputs": [
    {
     "output_type": "stream",
     "name": "stdout",
     "text": "1 hokkaidou\n2 aomori\n3 iwate\n"
    }
   ],
   "source": [
    "for key,x in prefecture_of_japan.items():\n",
    "    print(key,x)"
   ]
  },
  {
   "cell_type": "code",
   "execution_count": null,
   "metadata": {},
   "outputs": [],
   "source": []
  }
 ]
}