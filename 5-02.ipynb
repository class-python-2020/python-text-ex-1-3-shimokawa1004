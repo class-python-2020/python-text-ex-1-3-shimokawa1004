{
 "metadata": {
  "language_info": {
   "codemirror_mode": {
    "name": "ipython",
    "version": 3
   },
   "file_extension": ".py",
   "mimetype": "text/x-python",
   "name": "python",
   "nbconvert_exporter": "python",
   "pygments_lexer": "ipython3",
   "version": "3.8.2-final"
  },
  "orig_nbformat": 2,
  "kernelspec": {
   "name": "python_defaultSpec_1598162401136",
   "display_name": "Python 3.8.2 32-bit"
  }
 },
 "nbformat": 4,
 "nbformat_minor": 2,
 "cells": [
  {
   "cell_type": "code",
   "execution_count": 2,
   "metadata": {},
   "outputs": [
    {
     "output_type": "execute_result",
     "data": {
      "text/plain": "[4, 9, 25, 49, 121, 169]"
     },
     "metadata": {},
     "execution_count": 2
    }
   ],
   "source": [
    "prime=[2,3,5,7,11,13]\n",
    "prime_squere=[x**2 for x in prime]\n",
    "prime_squere"
   ]
  },
  {
   "cell_type": "code",
   "execution_count": 4,
   "metadata": {},
   "outputs": [
    {
     "output_type": "execute_result",
     "data": {
      "text/plain": "[1, 2, 3, 4, 5, 6, 7, 8, 9, 2, 4, 6, 8, 10, 12, 14, 16, 18]"
     },
     "metadata": {},
     "execution_count": 4
    }
   ],
   "source": [
    "multiplication=[i*j for i in range(1,3)for j in range(1,10)]\n",
    "multiplication"
   ]
  },
  {
   "cell_type": "code",
   "execution_count": 5,
   "metadata": {},
   "outputs": [],
   "source": [
    "mat=[\n",
    "    [1,2,3,4],[5,6,7,8]\n",
    "]\n"
   ]
  },
  {
   "cell_type": "code",
   "execution_count": 7,
   "metadata": {},
   "outputs": [
    {
     "output_type": "execute_result",
     "data": {
      "text/plain": "[[1, 2, 3, 4], [5, 6, 7, 8]]"
     },
     "metadata": {},
     "execution_count": 7
    }
   ],
   "source": [
    "I=2\n",
    "J=4\n",
    "mat=[[i*J+j+1 for j in range(J)] for i in range(I)]\n",
    "mat"
   ]
  },
  {
   "cell_type": "code",
   "execution_count": 8,
   "metadata": {},
   "outputs": [
    {
     "output_type": "execute_result",
     "data": {
      "text/plain": "[121, 169]"
     },
     "metadata": {},
     "execution_count": 8
    }
   ],
   "source": [
    "prime=[2,3,5,7,11,13]\n",
    "prime_squere=[x**2 for x in prime if x**2>100]\n",
    "prime_squere"
   ]
  },
  {
   "cell_type": "code",
   "execution_count": null,
   "metadata": {},
   "outputs": [],
   "source": []
  }
 ]
}