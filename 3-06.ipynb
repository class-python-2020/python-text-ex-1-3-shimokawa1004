{
 "metadata": {
  "language_info": {
   "codemirror_mode": {
    "name": "ipython",
    "version": 3
   },
   "file_extension": ".py",
   "mimetype": "text/x-python",
   "name": "python",
   "nbconvert_exporter": "python",
   "pygments_lexer": "ipython3",
   "version": "3.8.2-final"
  },
  "orig_nbformat": 2,
  "kernelspec": {
   "name": "python_defaultSpec_1598072807750",
   "display_name": "Python 3.8.2 32-bit"
  }
 },
 "nbformat": 4,
 "nbformat_minor": 2,
 "cells": [
  {
   "cell_type": "code",
   "execution_count": 1,
   "metadata": {
    "tags": []
   },
   "outputs": [
    {
     "output_type": "stream",
     "name": "stdout",
     "text": "NG\nNG\nNG\nNG\nNG\nNG\nNG\nNG\nNG\nNG\nNG\nNG\nNG\nNG\nNG\nNG\nNG\nNG\nNG\nNG\nNG\nNG\nNG\nNG\nNG\nNG\nNG\nNG\nNG\nNG\nNG\nNG\nNG\nNG\nNG\nNG\nNG\nNG\nNG\nNG\nNG\nNG\nNG\nNG\nNG\nNG\nNG\nNG\nNG\nNG\nNG\nERROR:root:Internal Python error in the inspect module.\nBelow is the traceback from this internal error.\n\nTraceback (most recent call last):\n  File \"C:\\Users\\shimokawa\\AppData\\Roaming\\Python\\Python38\\site-packages\\IPython\\core\\interactiveshell.py\", line 3331, in run_code\n    exec(code_obj, self.user_global_ns, self.user_ns)\n  File \"<ipython-input-1-af322ef85a4b>\", line 5, in <module>\n    val =input()\n  File \"C:\\Users\\shimokawa\\AppData\\Roaming\\Python\\Python38\\site-packages\\ipykernel\\kernelbase.py\", line 860, in raw_input\n    return self._input_request(str(prompt),\n  File \"C:\\Users\\shimokawa\\AppData\\Roaming\\Python\\Python38\\site-packages\\ipykernel\\kernelbase.py\", line 904, in _input_request\n    raise KeyboardInterrupt(\"Interrupted by user\") from None\nKeyboardInterrupt: Interrupted by user\n\nDuring handling of the above exception, another exception occurred:\n\nTraceback (most recent call last):\n  File \"C:\\Users\\shimokawa\\AppData\\Roaming\\Python\\Python38\\site-packages\\IPython\\core\\interactiveshell.py\", line 2044, in showtraceback\n    stb = value._render_traceback_()\nAttributeError: 'KeyboardInterrupt' object has no attribute '_render_traceback_'\n\nDuring handling of the above exception, another exception occurred:\n\nTraceback (most recent call last):\n  File \"C:\\Users\\shimokawa\\AppData\\Roaming\\Python\\Python38\\site-packages\\IPython\\core\\ultratb.py\", line 1148, in get_records\n    return _fixed_getinnerframes(etb, number_of_lines_of_context, tb_offset)\n  File \"C:\\Users\\shimokawa\\AppData\\Roaming\\Python\\Python38\\site-packages\\IPython\\core\\ultratb.py\", line 316, in wrapped\n    return f(*args, **kwargs)\n  File \"C:\\Users\\shimokawa\\AppData\\Roaming\\Python\\Python38\\site-packages\\IPython\\core\\ultratb.py\", line 350, in _fixed_getinnerframes\n    records = fix_frame_records_filenames(inspect.getinnerframes(etb, context))\n  File \"C:\\Users\\shimokawa\\AppData\\Local\\Programs\\Python\\Python38-32\\lib\\inspect.py\", line 1503, in getinnerframes\n    frameinfo = (tb.tb_frame,) + getframeinfo(tb, context)\n  File \"C:\\Users\\shimokawa\\AppData\\Local\\Programs\\Python\\Python38-32\\lib\\inspect.py\", line 1461, in getframeinfo\n    filename = getsourcefile(frame) or getfile(frame)\n  File \"C:\\Users\\shimokawa\\AppData\\Local\\Programs\\Python\\Python38-32\\lib\\inspect.py\", line 708, in getsourcefile\n    if getattr(getmodule(object, filename), '__loader__', None) is not None:\n  File \"C:\\Users\\shimokawa\\AppData\\Local\\Programs\\Python\\Python38-32\\lib\\inspect.py\", line 754, in getmodule\n    os.path.realpath(f)] = module.__name__\n  File \"C:\\Users\\shimokawa\\AppData\\Local\\Programs\\Python\\Python38-32\\lib\\ntpath.py\", line 647, in realpath\n    path = _getfinalpathname(path)\nKeyboardInterrupt\n"
    },
    {
     "output_type": "error",
     "ename": "KeyboardInterrupt",
     "evalue": "Interrupted by user",
     "traceback": [
      "\u001b[1;31m---------------------------------------------------------------------------\u001b[0m"
     ]
    }
   ],
   "source": [
    "import random\n",
    "alphabet=['a','b','c','d','e','f','g','h','i','j','k','l','m','n','o','p','q','r','s','t','u','v','w','x','y','z']\n",
    "ch=random.choice(alphabet)\n",
    "while True:\n",
    "    val =input()\n",
    "    if ch ==val:\n",
    "        print('ok')\n",
    "        break\n",
    "    else:\n",
    "        print('NG')"
   ]
  },
  {
   "cell_type": "code",
   "execution_count": null,
   "metadata": {},
   "outputs": [],
   "source": [
    "import random\n",
    "numbers=['0','1','2','3','4','5','6','7','8','9']\n",
    "sample4=random.sample(numbers,k=4)\n",
    "num4=''.join(sample4)\n",
    "while True:\n",
    "    val=input()\n",
    "    if val==num4:\n",
    "        print('ok')\n",
    "        break\n",
    "    else:\n",
    "        print(val,':NG')"
   ]
  },
  {
   "cell_type": "code",
   "execution_count": 1,
   "metadata": {
    "tags": []
   },
   "outputs": [
    {
     "output_type": "stream",
     "name": "stdout",
     "text": "input 4 numbers.\ninput 4 numbers.\ninput 4 numbers.\ninput 4 numbers.\ninput 4 numbers.\ninput 4 numbers.\ninput 4 numbers.\ninput 4 numbers.\ninput 4 numbers.\ninput 4 numbers.\ninput 4 numbers.\ninput 4 numbers.\ninput 4 numbers.\ninput 4 numbers.\ninput 4 numbers.\ninput 4 numbers.\ninput 4 numbers.\ninput 4 numbers.\ninput 4 numbers.\ninput 4 numbers.\ninput 4 numbers.\ninput 4 numbers.\ninput 4 numbers.\ninput 4 numbers.\ninput 4 numbers.\ninput 4 numbers.\ninput 4 numbers.\ninput 4 numbers.\ninput 4 numbers.\ninput 4 numbers.\ninput 4 numbers.\ninput 4 numbers.\ninput 4 numbers.\ninput 4 numbers.\ninput 4 numbers.\ninput 4 numbers.\ninput 4 numbers.\ninput 4 numbers.\ninput 4 numbers.\ninput 4 numbers.\ninput 4 numbers.\ninput 4 numbers.\ninput 4 numbers.\ninput 4 numbers.\ninput 4 numbers.\ninput 4 numbers.\ninput 4 numbers.\ninput 4 numbers.\ninput 4 numbers.\ninput 4 numbers.\ninput 4 numbers.\ninput 4 numbers.\ninput 4 numbers.\ninput 4 numbers.\ninput 4 numbers.\ninput 4 numbers.\ninput 4 numbers.\ninput 4 numbers.\ninput 4 numbers.\ninput 4 numbers.\ninput 4 numbers.\ninput 4 numbers.\ninput 4 numbers.\ninput 4 numbers.\ninput 4 numbers.\ninput 4 numbers.\ninput 4 numbers.\ninput 4 numbers.\ninput 4 numbers.\ninput 4 numbers.\ninput 4 numbers.\ninput 4 numbers.\ninput 4 numbers.\ninput 4 numbers.\ninput 4 numbers.\ninput 4 numbers.\ninput 4 numbers.\ninput 4 numbers.\ninput 4 numbers.\ninput 4 numbers.\ninput 4 numbers.\ninput 4 numbers.\ninput 4 numbers.\ninput 4 numbers.\ninput 4 numbers.\ninput 4 numbers.\ninput 4 numbers.\ninput 4 numbers.\ninput 4 numbers.\ninput 4 numbers.\ninput 4 numbers.\ninput 4 numbers.\ninput 4 numbers.\ninput 4 numbers.\ninput 4 numbers.\ninput 4 numbers.\ninput 4 numbers.\ninput 4 numbers.\ninput 4 numbers.\ninput 4 numbers.\ninput 4 numbers.\ninput 4 numbers.\ninput 4 numbers.\ninput 4 numbers.\ninput 4 numbers.\ninput 4 numbers.\ninput 4 numbers.\ninput 4 numbers.\ninput 4 numbers.\ninput 4 numbers.\ninput 4 numbers.\ninput 4 numbers.\ninput 4 numbers.\ninput 4 numbers.\ninput 4 numbers.\ninput 4 numbers.\ninput 4 numbers.\ninput 4 numbers.\ninput 4 numbers.\ninput 4 numbers.\ninput 4 numbers.\ninput 4 numbers.\ninput 4 numbers.\ninput 4 numbers.\ninput 4 numbers.\ninput 4 numbers.\ninput 4 numbers.\ninput 4 numbers.\ninput 4 numbers.\ninput 4 numbers.\ninput 4 numbers.\ninput 4 numbers.\ninput 4 numbers.\ninput 4 numbers.\ninput 4 numbers.\ninput 4 numbers.\ninput 4 numbers.\ninput 4 numbers.\ninput 4 numbers.\ninput 4 numbers.\ninput 4 numbers.\ninput 4 numbers.\ninput 4 numbers.\ninput 4 numbers.\ninput 4 numbers.\ninput 4 numbers.\ninput 4 numbers.\ninput 4 numbers.\ninput 4 numbers.\ninput 4 numbers.\ninput 4 numbers.\ninput 4 numbers.\ninput 4 numbers.\ninput 4 numbers.\ninput 4 numbers.\ninput 4 numbers.\ninput 4 numbers.\ninput 4 numbers.\ninput 4 numbers.\ninput 4 numbers.\ninput 4 numbers.\ninput 4 numbers.\ninput 4 numbers.\ninput 4 numbers.\ninput 4 numbers.\ninput 4 numbers.\ninput 4 numbers.\ninput 4 numbers.\ninput 4 numbers.\ninput 4 numbers.\ninput 4 numbers.\ninput 4 numbers.\ninput 4 numbers.\ninput 4 numbers.\ninput 4 numbers.\ninput 4 numbers.\ninput 4 numbers.\ninput 4 numbers.\ninput 4 numbers.\ninput 4 numbers.\ninput 4 numbers.\ninput 4 numbers.\ninput 4 numbers.\ninput 4 numbers.\ninput 4 numbers.\ninput 4 numbers.\ninput 4 numbers.\ninput 4 numbers.\ninput 4 numbers.\ninput 4 numbers.\ninput 4 numbers.\ninput 4 numbers.\ninput 4 numbers.\ninput 4 numbers.\ninput 4 numbers.\ninput 4 numbers.\ninput 4 numbers.\ninput 4 numbers.\ninput 4 numbers.\ninput 4 numbers.\ninput 4 numbers.\ninput 4 numbers.\ninput 4 numbers.\ninput 4 numbers.\ninput 4 numbers.\ninput 4 numbers.\ninput 4 numbers.\ninput 4 numbers.\ninput 4 numbers.\ninput 4 numbers.\ninput 4 numbers.\ninput 4 numbers.\ninput 4 numbers.\ninput 4 numbers.\ninput 4 numbers.\ninput 4 numbers.\ninput 4 numbers.\ninput 4 numbers.\ninput 4 numbers.\ninput 4 numbers.\ninput 4 numbers.\ninput 4 numbers.\ninput 4 numbers.\ninput 4 numbers.\ninput 4 numbers.\ninput 4 numbers.\ninput 4 numbers.\ninput 4 numbers.\ninput 4 numbers.\ninput 4 numbers.\ninput 4 numbers.\ninput 4 numbers.\ninput 4 numbers.\ninput 4 numbers.\ninput 4 numbers.\ninput 4 numbers.\ninput 4 numbers.\ninput 4 numbers.\ninput 4 numbers.\ninput 4 numbers.\ninput 4 numbers.\ninput 4 numbers.\ninput 4 numbers.\ninput 4 numbers.\ninput 4 numbers.\ninput 4 numbers.\ninput 4 numbers.\ninput 4 numbers.\ninput 4 numbers.\ninput 4 numbers.\ninput 4 numbers.\ninput 4 numbers.\ninput 4 numbers.\ninput 4 numbers.\ninput 4 numbers.\ninput 4 numbers.\ninput 4 numbers.\ninput 4 numbers.\ninput 4 numbers.\ninput 4 numbers.\ninput 4 numbers.\ninput 4 numbers.\ninput 4 numbers.\ninput 4 numbers.\ninput 4 numbers.\ninput 4 numbers.\ninput 4 numbers.\ninput 4 numbers.\ninput 4 numbers.\ninput 4 numbers.\ninput 4 numbers.\ninput 4 numbers.\ninput 4 numbers.\ninput 4 numbers.\ninput 4 numbers.\ninput 4 numbers.\ninput 4 numbers.\ninput 4 numbers.\ninput 4 numbers.\ninput 4 numbers.\ninput 4 numbers.\ninput 4 numbers.\ninput 4 numbers.\ninput 4 numbers.\ninput 4 numbers.\ninput 4 numbers.\ninput 4 numbers.\ninput 4 numbers.\ninput 4 numbers.\ninput 4 numbers.\ninput 4 numbers.\ninput 4 numbers.\ninput 4 numbers.\ninput 4 numbers.\ninput 4 numbers.\ninput 4 numbers.\ninput 4 numbers.\ninput 4 numbers.\ninput 4 numbers.\ninput 4 numbers.\ninput 4 numbers.\ninput 4 numbers.\ninput 4 numbers.\ninput 4 numbers.\ninput 4 numbers.\ninput 4 numbers.\ninput 4 numbers.\ninput 4 numbers.\ninput 4 numbers.\ninput 4 numbers.\ninput 4 numbers.\ninput 4 numbers.\ninput 4 numbers.\ninput 4 numbers.\ninput 4 numbers.\ninput 4 numbers.\ninput 4 numbers.\ninput 4 numbers.\ninput 4 numbers.\ninput 4 numbers.\ninput 4 numbers.\ninput 4 numbers.\ninput 4 numbers.\ninput 4 numbers.\ninput 4 numbers.\ninput 4 numbers.\ninput 4 numbers.\ninput 4 numbers.\ninput 4 numbers.\ninput 4 numbers.\ninput 4 numbers.\ninput 4 numbers.\ninput 4 numbers.\ninput 4 numbers.\ninput 4 numbers.\ninput 4 numbers.\ninput 4 numbers.\ninput 4 numbers.\ninput 4 numbers.\ninput 4 numbers.\ninput 4 numbers.\ninput 4 numbers.\ninput 4 numbers.\ninput 4 numbers.\ninput 4 numbers.\ninput 4 numbers.\ninput 4 numbers.\ninput 4 numbers.\ninput 4 numbers.\ninput 4 numbers.\ninput 4 numbers.\ninput 4 numbers.\ninput 4 numbers.\ninput 4 numbers.\ninput 4 numbers.\ninput 4 numbers.\ninput 4 numbers.\ninput 4 numbers.\ninput 4 numbers.\ninput 4 numbers.\ninput 4 numbers.\ninput 4 numbers.\ninput 4 numbers.\ninput 4 numbers.\ninput 4 numbers.\ninput 4 numbers.\ninput 4 numbers.\ninput 4 numbers.\ninput 4 numbers.\ninput 4 numbers.\ninput 4 numbers.\ninput 4 numbers.\ninput 4 numbers.\ninput 4 numbers.\ninput 4 numbers.\ninput 4 numbers.\ninput 4 numbers.\ninput 4 numbers.\ninput 4 numbers.\ninput 4 numbers.\ninput 4 numbers.\ninput 4 numbers.\ninput 4 numbers.\ninput 4 numbers.\ninput 4 numbers.\ninput 4 numbers.\ninput 4 numbers.\ninput 4 numbers.\ninput 4 numbers.\ninput 4 numbers.\ninput 4 numbers.\ninput 4 numbers.\ninput 4 numbers.\ninput 4 numbers.\ninput 4 numbers.\ninput 4 numbers.\ninput 4 numbers.\ninput 4 numbers.\ninput 4 numbers.\ninput 4 numbers.\ninput 4 numbers.\ninput 4 numbers.\ninput 4 numbers.\ninput 4 numbers.\ninput 4 numbers.\ninput 4 numbers.\ninput 4 numbers.\ninput 4 numbers.\ninput 4 numbers.\ninput 4 numbers.\ninput 4 numbers.\ninput 4 numbers.\ninput 4 numbers.\ninput 4 numbers.\ninput 4 numbers.\ninput 4 numbers.\ninput 4 numbers.\ninput 4 numbers.\ninput 4 numbers.\ninput 4 numbers.\ninput 4 numbers.\n"
    },
    {
     "output_type": "error",
     "ename": "KeyboardInterrupt",
     "evalue": "Interrupted by user",
     "traceback": [
      "\u001b[1;31m---------------------------------------------------------------------------\u001b[0m",
      "\u001b[1;31mKeyboardInterrupt\u001b[0m                         Traceback (most recent call last)",
      "\u001b[1;32m<ipython-input-1-4d57dccc0241>\u001b[0m in \u001b[0;36m<module>\u001b[1;34m\u001b[0m\n\u001b[0;32m      3\u001b[0m \u001b[0mnum4\u001b[0m\u001b[1;33m=\u001b[0m\u001b[1;34m''\u001b[0m\u001b[1;33m.\u001b[0m\u001b[0mjoin\u001b[0m\u001b[1;33m(\u001b[0m\u001b[0mrandom\u001b[0m\u001b[1;33m.\u001b[0m\u001b[0msample\u001b[0m\u001b[1;33m(\u001b[0m\u001b[0mnumbers\u001b[0m\u001b[1;33m,\u001b[0m\u001b[0mk\u001b[0m\u001b[1;33m=\u001b[0m\u001b[1;36m4\u001b[0m\u001b[1;33m)\u001b[0m\u001b[1;33m)\u001b[0m\u001b[1;33m\u001b[0m\u001b[1;33m\u001b[0m\u001b[0m\n\u001b[0;32m      4\u001b[0m \u001b[1;32mwhile\u001b[0m \u001b[1;32mTrue\u001b[0m\u001b[1;33m:\u001b[0m\u001b[1;33m\u001b[0m\u001b[1;33m\u001b[0m\u001b[0m\n\u001b[1;32m----> 5\u001b[1;33m     \u001b[0mval\u001b[0m\u001b[1;33m=\u001b[0m\u001b[0minput\u001b[0m\u001b[1;33m(\u001b[0m\u001b[1;33m)\u001b[0m\u001b[1;33m\u001b[0m\u001b[1;33m\u001b[0m\u001b[0m\n\u001b[0m\u001b[0;32m      6\u001b[0m     \u001b[1;32mif\u001b[0m \u001b[0mval\u001b[0m \u001b[1;33m==\u001b[0m \u001b[0mnum4\u001b[0m\u001b[1;33m:\u001b[0m\u001b[1;33m\u001b[0m\u001b[1;33m\u001b[0m\u001b[0m\n\u001b[0;32m      7\u001b[0m         \u001b[1;32mbreak\u001b[0m\u001b[1;33m\u001b[0m\u001b[1;33m\u001b[0m\u001b[0m\n",
      "\u001b[1;32m~\\AppData\\Roaming\\Python\\Python38\\site-packages\\ipykernel\\kernelbase.py\u001b[0m in \u001b[0;36mraw_input\u001b[1;34m(self, prompt)\u001b[0m\n\u001b[0;32m    858\u001b[0m                 \u001b[1;34m\"raw_input was called, but this frontend does not support input requests.\"\u001b[0m\u001b[1;33m\u001b[0m\u001b[1;33m\u001b[0m\u001b[0m\n\u001b[0;32m    859\u001b[0m             )\n\u001b[1;32m--> 860\u001b[1;33m         return self._input_request(str(prompt),\n\u001b[0m\u001b[0;32m    861\u001b[0m             \u001b[0mself\u001b[0m\u001b[1;33m.\u001b[0m\u001b[0m_parent_ident\u001b[0m\u001b[1;33m,\u001b[0m\u001b[1;33m\u001b[0m\u001b[1;33m\u001b[0m\u001b[0m\n\u001b[0;32m    862\u001b[0m             \u001b[0mself\u001b[0m\u001b[1;33m.\u001b[0m\u001b[0m_parent_header\u001b[0m\u001b[1;33m,\u001b[0m\u001b[1;33m\u001b[0m\u001b[1;33m\u001b[0m\u001b[0m\n",
      "\u001b[1;32m~\\AppData\\Roaming\\Python\\Python38\\site-packages\\ipykernel\\kernelbase.py\u001b[0m in \u001b[0;36m_input_request\u001b[1;34m(self, prompt, ident, parent, password)\u001b[0m\n\u001b[0;32m    902\u001b[0m             \u001b[1;32mexcept\u001b[0m \u001b[0mKeyboardInterrupt\u001b[0m\u001b[1;33m:\u001b[0m\u001b[1;33m\u001b[0m\u001b[1;33m\u001b[0m\u001b[0m\n\u001b[0;32m    903\u001b[0m                 \u001b[1;31m# re-raise KeyboardInterrupt, to truncate traceback\u001b[0m\u001b[1;33m\u001b[0m\u001b[1;33m\u001b[0m\u001b[1;33m\u001b[0m\u001b[0m\n\u001b[1;32m--> 904\u001b[1;33m                 \u001b[1;32mraise\u001b[0m \u001b[0mKeyboardInterrupt\u001b[0m\u001b[1;33m(\u001b[0m\u001b[1;34m\"Interrupted by user\"\u001b[0m\u001b[1;33m)\u001b[0m \u001b[1;32mfrom\u001b[0m \u001b[1;32mNone\u001b[0m\u001b[1;33m\u001b[0m\u001b[1;33m\u001b[0m\u001b[0m\n\u001b[0m\u001b[0;32m    905\u001b[0m             \u001b[1;32mexcept\u001b[0m \u001b[0mException\u001b[0m \u001b[1;32mas\u001b[0m \u001b[0me\u001b[0m\u001b[1;33m:\u001b[0m\u001b[1;33m\u001b[0m\u001b[1;33m\u001b[0m\u001b[0m\n\u001b[0;32m    906\u001b[0m                 \u001b[0mself\u001b[0m\u001b[1;33m.\u001b[0m\u001b[0mlog\u001b[0m\u001b[1;33m.\u001b[0m\u001b[0mwarning\u001b[0m\u001b[1;33m(\u001b[0m\u001b[1;34m\"Invalid Message:\"\u001b[0m\u001b[1;33m,\u001b[0m \u001b[0mexc_info\u001b[0m\u001b[1;33m=\u001b[0m\u001b[1;32mTrue\u001b[0m\u001b[1;33m)\u001b[0m\u001b[1;33m\u001b[0m\u001b[1;33m\u001b[0m\u001b[0m\n",
      "\u001b[1;31mKeyboardInterrupt\u001b[0m: Interrupted by user"
     ]
    }
   ],
   "source": [
    "import random\n",
    "numbers=['0','1','2','3','4','5','6','7','8','9']\n",
    "num4=''.join(random.sample(numbers,k=4))\n",
    "while True:\n",
    "    val=input()\n",
    "    if val == num4:\n",
    "        break\n",
    "    if len(val) != 4:\n",
    "        print('input 4 numbers.')\n",
    "        continue\n",
    "    answer =''\n",
    "    for i in range(4):\n",
    "        if num4[i]==val[i]:\n",
    "            answer += num4[i]\n",
    "        else:\n",
    "            answer +='x'\n",
    "    print('->'+answer)"
   ]
  },
  {
   "cell_type": "code",
   "execution_count": null,
   "metadata": {},
   "outputs": [],
   "source": []
  }
 ]
}